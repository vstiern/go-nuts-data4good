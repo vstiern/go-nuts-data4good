{
 "cells": [
  {
   "cell_type": "code",
   "execution_count": 20,
   "metadata": {},
   "outputs": [
    {
     "ename": "IndexError",
     "evalue": "tuple index out of range",
     "output_type": "error",
     "traceback": [
      "\u001b[0;31m---------------------------------------------------------------------------\u001b[0m",
      "\u001b[0;31mIndexError\u001b[0m                                Traceback (most recent call last)",
      "\u001b[0;32m<ipython-input-20-21db076e5c0f>\u001b[0m in \u001b[0;36m<module>\u001b[0;34m()\u001b[0m\n\u001b[1;32m     77\u001b[0m         \u001b[0;31m# get bbox\u001b[0m\u001b[0;34m\u001b[0m\u001b[0;34m\u001b[0m\u001b[0m\n\u001b[1;32m     78\u001b[0m         \u001b[0;31m# save bbox coords\u001b[0m\u001b[0;34m\u001b[0m\u001b[0;34m\u001b[0m\u001b[0m\n\u001b[0;32m---> 79\u001b[0;31m         map_bbox = BBox(bbox=([cc_map.bounds[0][1], cc_map.bounds[0][0],\n\u001b[0m\u001b[1;32m     80\u001b[0m                                cc_map.bounds[1][1], cc_map.bounds[1][0]]), crs=CRS.WGS84)\n\u001b[1;32m     81\u001b[0m         \u001b[0;31m# landslide_name\u001b[0m\u001b[0;34m\u001b[0m\u001b[0;34m\u001b[0m\u001b[0m\n",
      "\u001b[0;31mIndexError\u001b[0m: tuple index out of range"
     ]
    }
   ],
   "source": [
    "### function to download all images\n",
    "# define id (full id account) -> full WMS intance ID\n",
    "INSTANCE_ID = '042dbf75-1db4-48af-aa2c-beee173d3339'\n",
    "\n",
    "# option settings\n",
    "%reload_ext autoreload\n",
    "%autoreload 2\n",
    "%matplotlib inline\n",
    "\n",
    "# import libs\n",
    "import numpy as np\n",
    "import datetime\n",
    "from base64 import b64encode\n",
    "from ipyleaflet import Map, WMSLayer\n",
    "from sentinelhub.data_request import WmsRequest, WcsRequest\n",
    "from sentinelhub.constants import MimeType, CustomUrlParam\n",
    "from sentinelhub.common import BBox, CRS\n",
    "from time_lapse import SentinelHubTimelapse\n",
    "from sentinelhub import WmsRequest, WcsRequest, MimeType, CRS, BBox, CustomUrlParam, DataSource\n",
    "\n",
    "# define timelampse function\n",
    "def make_timelapse(msg, bbox, time_interval, *, full_size=(int(1920 / 2), int(1080 / 2)), mask_images=[],\n",
    "                   max_cc=0.01, scale_factor=0.2, fps=8, instance_id=INSTANCE_ID, layer, **kwargs):\n",
    "\n",
    "    # call timelapse function\n",
    "    timelapse = SentinelHubTimelapse(msg, bbox, time_interval, instance_id,\n",
    "                                     full_size=full_size, layer=layer, **kwargs)\n",
    "    timelapse.get_previews()\n",
    "    timelapse.save_fullres_images()\n",
    "    timelapse.plot_preview(filename='previews.pdf')\n",
    "    timelapse.mask_cloudy_images(max_cloud_coverage=max_cc)\n",
    "    timelapse.plot_cloud_masks(filename='cloudmasks.pdf')\n",
    "    timelapse.plot_preview(filename='previews_with_cc.pdf')\n",
    "    timelapse.mask_images(mask_images)\n",
    "    timelapse.create_date_stamps()\n",
    "    timelapse.create_timelapse(scale_factor=scale_factor)\n",
    "\n",
    "    timelapse.make_gif(fps=fps)\n",
    "    # timelapse.make_video(fps=fps)\n",
    "## static paramenters\n",
    "# predinfined ids (see gsheet)\n",
    "loc_id = [1, 2, 3, 4, 5, 6, 7]\n",
    "# temporal range\n",
    "time_interval = ['2015-01-01', '2018-05-25'] # arbitary\n",
    "# layer to iterate over\n",
    "layers = ['TRUE_COLOR', 'FALSE_COLOR', 'NDVI',\n",
    "          'MOISTURE_INDEX', 'SWIR']\n",
    "# list of all central coordinates\n",
    "#central_coordinates = [(cc_lat, cc_long)]\n",
    "central_coordinates =   [(-0.33006, -78.98691),\n",
    "                        (-1.410754, -78.193159),\n",
    "                        (-1.399899, -78.297529),\n",
    "                        (-2.189375, -78.338196),\n",
    "                        (-2.289165, -78.918399),\n",
    "                        (-3.689013, -79.6188219),\n",
    "                        (-0.371995, -78.832596)]\n",
    "# zoom level of inputs\n",
    "zoom_level = 14 # arbitary\n",
    "# labels\n",
    "label = 'landslide'\n",
    "# cc_thres\n",
    "cc_thres = 0.2\n",
    "# image size\n",
    "tl_size = (int(1920/2), int(1080/2))\n",
    "# save path\n",
    "save_path = 'timelapse_dir/model_data/'\n",
    "\n",
    "### produce timelaps for every iteration of layers and coordinates\n",
    "### interation\n",
    "for layer in layers:\n",
    "    for coord in central_coordinates:\n",
    "        ## get boundry box\n",
    "        # specify centre of map\n",
    "        cc_map = Map(center=[coord[0], coord[1]], zoom=zoom_level) # zoom defined\n",
    "        # view map to get bbox\n",
    "        cc_map.bounds\n",
    "        # get bbox\n",
    "        # save bbox coords\n",
    "        map_bbox = BBox(bbox=([cc_map.bounds[0][1], cc_map.bounds[0][0],\n",
    "                               cc_map.bounds[1][1], cc_map.bounds[1][0]]), crs=CRS.WGS84)\n",
    "        # landslide_name\n",
    "        folder_name = (save_path + loc_id + '_' + layer)\n",
    "\n",
    "        # execute timelapse\n",
    "        make_timelapse(msg=landslide_name,\n",
    "                       bbox=map_bbox,\n",
    "                       time_interval=time_interval,\n",
    "                       max_cc=cc_thres,\n",
    "                       layer=layer,\n",
    "                       scale_factor=0.2,\n",
    "                       full_size=tl_size)\n"
   ]
  },
  {
   "cell_type": "code",
   "execution_count": 21,
   "metadata": {},
   "outputs": [
    {
     "ename": "IndexError",
     "evalue": "tuple index out of range",
     "output_type": "error",
     "traceback": [
      "\u001b[0;31m---------------------------------------------------------------------------\u001b[0m",
      "\u001b[0;31mIndexError\u001b[0m                                Traceback (most recent call last)",
      "\u001b[0;32m<ipython-input-21-bd16ff2fe84f>\u001b[0m in \u001b[0;36m<module>\u001b[0;34m()\u001b[0m\n\u001b[0;32m----> 1\u001b[0;31m \u001b[0mcc_map\u001b[0m\u001b[0;34m.\u001b[0m\u001b[0mbounds\u001b[0m\u001b[0;34m[\u001b[0m\u001b[0;36m0\u001b[0m\u001b[0;34m]\u001b[0m\u001b[0;34m[\u001b[0m\u001b[0;36m1\u001b[0m\u001b[0;34m]\u001b[0m\u001b[0;34m\u001b[0m\u001b[0m\n\u001b[0m",
      "\u001b[0;31mIndexError\u001b[0m: tuple index out of range"
     ]
    }
   ],
   "source": [
    "cc_map.bounds[0][1]"
   ]
  },
  {
   "cell_type": "code",
   "execution_count": null,
   "metadata": {},
   "outputs": [],
   "source": [
    "# define bounds box\n",
    "map_bbox = BBox(bbox=([m.bounds[0][1], m.bounds[0][0],\n",
    "                        m.bounds[1][1], m.bounds[1][0]]), crs=CRS.WGS84)"
   ]
  },
  {
   "cell_type": "code",
   "execution_count": 5,
   "metadata": {},
   "outputs": [
    {
     "data": {
      "text/plain": [
       "(-0.33006, -78.98691)"
      ]
     },
     "execution_count": 5,
     "metadata": {},
     "output_type": "execute_result"
    }
   ],
   "source": [
    "cc_map.bounds\n",
    "        # save bbox coords\n",
    "        map_bbox = BBox(bbox=([cc_map.bounds[0][1], cc_map.bounds[0][0],\n",
    "                                cc_map.bounds[1][1], cc_map.bounds[1][0]]), crs=CRS.WGS84)\n",
    "        # landslide_name\n",
    "        folder_name = (save_path + loc_id + '_' + layer)\n",
    "\n",
    "        # execute timelapse\n",
    "        make_timelapse(msg=landslide_name,\n",
    "                       bbox=map_bbox,\n",
    "                       time_interval=time_interval,\n",
    "                       max_cc=cc_thres,\n",
    "                       layer=layer,\n",
    "                       scale_factor=0.2,\n",
    "                       full_size=tl_size)\n"
   ]
  },
  {
   "cell_type": "code",
   "execution_count": null,
   "metadata": {},
   "outputs": [],
   "source": []
  }
 ],
 "metadata": {
  "kernelspec": {
   "display_name": "Python 3",
   "language": "python",
   "name": "python3"
  },
  "language_info": {
   "codemirror_mode": {
    "name": "ipython",
    "version": 3
   },
   "file_extension": ".py",
   "mimetype": "text/x-python",
   "name": "python",
   "nbconvert_exporter": "python",
   "pygments_lexer": "ipython3",
   "version": "3.6.4"
  }
 },
 "nbformat": 4,
 "nbformat_minor": 2
}
